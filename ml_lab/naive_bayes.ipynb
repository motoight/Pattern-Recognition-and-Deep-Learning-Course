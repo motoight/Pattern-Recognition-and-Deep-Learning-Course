{
 "cells": [
  {
   "cell_type": "code",
   "execution_count": 7,
   "metadata": {},
   "outputs": [],
   "source": [
    "import numpy as np\n",
    "from sklearn import svm\n",
    "from sklearn.metrics import classification_report\n",
    "import data_util\n",
    "\n",
    "train_x, train_y, test_x, test_y = data_util.load_data()\n",
    "\n",
    "\n",
    "# 需要合理的划分测试集选取k值 10%\n",
    "train_x = train_x[:10000]\n",
    "train_y = train_y[:10000]\n",
    "test_x = test_x[:2000]\n",
    "test_y = test_y[:2000]"
   ]
  },
  {
   "cell_type": "code",
   "execution_count": 8,
   "metadata": {},
   "outputs": [
    {
     "name": "stdout",
     "output_type": "stream",
     "text": [
      "GaussianNB score: 0.5165\n",
      "GaussianNB time cost :(time 0.45s)\n",
      "MultinomialNB score: 0.7735\n",
      "GaussianNB time cost :(time 0.07s)\n",
      "BernoulliNB score: 0.787\n",
      "GaussianNB time cost :(time 0.18s)\n"
     ]
    }
   ],
   "source": [
    "from sklearn.naive_bayes import GaussianNB,BernoulliNB,MultinomialNB\n",
    "from sklearn.metrics import accuracy_score\n",
    "from time import time\n",
    "clf = GaussianNB()\n",
    "t0 = time()\n",
    "clf.fit(train_x,train_y)\n",
    "y_predict = clf.predict(test_x)\n",
    "print(\"GaussianNB score: {}\".format(accuracy_score(test_y,y_predict)))\n",
    "print(\"GaussianNB time cost :(time %.2fs)\" %(time() - t0))\n",
    "\n",
    "clf = MultinomialNB()\n",
    "t0 = time()\n",
    "clf.fit(train_x,train_y)\n",
    "y_predict = clf.predict(test_x)\n",
    "print(\"MultinomialNB score: {}\".format(accuracy_score(test_y,y_predict)))\n",
    "print(\"GaussianNB time cost :(time %.2fs)\" %(time() - t0))\n",
    "\n",
    "clf = BernoulliNB()\n",
    "t0 = time()\n",
    "clf.fit(train_x,train_y)\n",
    "y_predict = clf.predict(test_x)\n",
    "print(\"BernoulliNB score: {}\".format(accuracy_score(test_y,y_predict)))\n",
    "print(\"GaussianNB time cost :(time %.2fs)\" %(time() - t0))"
   ]
  },
  {
   "cell_type": "code",
   "execution_count": null,
   "metadata": {},
   "outputs": [],
   "source": []
  }
 ],
 "metadata": {
  "kernelspec": {
   "display_name": "Python 3",
   "language": "python",
   "name": "python3"
  },
  "language_info": {
   "codemirror_mode": {
    "name": "ipython",
    "version": 3
   },
   "file_extension": ".py",
   "mimetype": "text/x-python",
   "name": "python",
   "nbconvert_exporter": "python",
   "pygments_lexer": "ipython3",
   "version": "3.7.3"
  }
 },
 "nbformat": 4,
 "nbformat_minor": 2
}
