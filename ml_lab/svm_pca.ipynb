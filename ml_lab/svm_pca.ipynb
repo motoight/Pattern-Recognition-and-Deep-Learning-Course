{
 "cells": [
  {
   "cell_type": "code",
   "execution_count": 12,
   "metadata": {},
   "outputs": [],
   "source": [
    "# svm 探究\n",
    "import numpy as np\n",
    "from sklearn import svm\n",
    "from sklearn.metrics import classification_report\n",
    "import pandas as pd\n",
    "import data_util\n",
    "import matplotlib.pyplot as plt\n",
    "\n",
    "train_x, train_y, test_x, test_y = data_util.load_data()\n",
    "\n",
    "\n",
    "# 需要合理的划分测试集选取k值 10%\n",
    "train_x = train_x[:60000]\n",
    "train_y = train_y[:60000]\n",
    "test_x = test_x[:4000]\n",
    "test_y = test_y[:4000]"
   ]
  },
  {
   "cell_type": "code",
   "execution_count": 2,
   "metadata": {},
   "outputs": [
    {
     "name": "stdout",
     "output_type": "stream",
     "text": [
      "              precision    recall  f1-score   support\n",
      "\n",
      "           0       0.98      0.94      0.96       370\n",
      "           1       0.98      0.97      0.98       450\n",
      "           2       0.68      0.98      0.80       418\n",
      "           3       0.88      0.93      0.90       408\n",
      "           4       0.91      0.93      0.92       418\n",
      "           5       0.95      0.90      0.93       372\n",
      "           6       0.99      0.81      0.89       378\n",
      "           7       0.97      0.85      0.91       411\n",
      "           8       0.92      0.83      0.87       384\n",
      "           9       0.91      0.86      0.88       391\n",
      "\n",
      "   micro avg       0.90      0.90      0.90      4000\n",
      "   macro avg       0.92      0.90      0.90      4000\n",
      "weighted avg       0.92      0.90      0.90      4000\n",
      "\n",
      "Wall time: 1min 7s\n"
     ]
    }
   ],
   "source": [
    "%%time\n",
    "# 简单测试rbf核的效果\n",
    "param_c = 5\n",
    "param_gamma = 0.05\n",
    "model = svm.SVC(gamma=param_gamma,C=param_c,kernel='rbf')\n",
    "model.fit(train_x,train_y)\n",
    "y_predict= model.predict(test_x)\n",
    "print(classification_report(test_y,y_predict))"
   ]
  },
  {
   "cell_type": "code",
   "execution_count": 13,
   "metadata": {},
   "outputs": [],
   "source": [
    "# 通过聚类加快速度\n",
    "from sklearn.decomposition import PCA,KernelPCA\n",
    "\n",
    "pca = PCA(n_components=30)\n",
    "pca.fit(train_x)\n",
    "reduced_train_x = pca.transform(train_x)\n",
    "reduced_test_x = pca.transform(test_x)"
   ]
  },
  {
   "cell_type": "code",
   "execution_count": 14,
   "metadata": {},
   "outputs": [
    {
     "name": "stdout",
     "output_type": "stream",
     "text": [
      "              precision    recall  f1-score   support\n",
      "\n",
      "           0       0.98      1.00      0.99       370\n",
      "           1       0.98      0.99      0.99       450\n",
      "           2       0.97      0.99      0.98       418\n",
      "           3       0.96      0.98      0.97       408\n",
      "           4       0.98      0.98      0.98       418\n",
      "           5       0.98      0.97      0.97       372\n",
      "           6       0.98      0.97      0.97       378\n",
      "           7       0.99      0.97      0.98       411\n",
      "           8       0.97      0.97      0.97       384\n",
      "           9       0.96      0.95      0.96       391\n",
      "\n",
      "   micro avg       0.97      0.97      0.97      4000\n",
      "   macro avg       0.97      0.97      0.97      4000\n",
      "weighted avg       0.97      0.97      0.97      4000\n",
      "\n",
      "Wall time: 1min 21s\n"
     ]
    }
   ],
   "source": [
    "%%time\n",
    "param_c = 5\n",
    "param_gamma = 0.05\n",
    "model = svm.SVC(gamma=param_gamma,C=param_c,kernel='rbf')\n",
    "\n",
    "model.fit(reduced_train_x,train_y)\n",
    "y_predict= model.predict(reduced_test_x)\n",
    "print(classification_report(test_y,y_predict))"
   ]
  },
  {
   "cell_type": "code",
   "execution_count": 5,
   "metadata": {},
   "outputs": [],
   "source": [
    "# 发现通过聚类，不仅svm的速度有了极大地提升，其准确率也有了提高\n",
    "# 下面分别控制变量，探究不同的核方法和pca维数对聚类效果的影响"
   ]
  },
  {
   "cell_type": "code",
   "execution_count": 8,
   "metadata": {},
   "outputs": [
    {
     "data": {
      "text/plain": [
       "Text(0.5, 0, 'reserved dim')"
      ]
     },
     "execution_count": 8,
     "metadata": {},
     "output_type": "execute_result"
    },
    {
     "data": {
      "image/png": "[encoded data removed]",
      "text/plain": [
       "<Figure size 432x288 with 1 Axes>"
      ]
     },
     "metadata": {},
     "output_type": "display_data"
    }
   ],
   "source": [
    "# 测试模型分类准确度和维度的关系\n",
    "dim = np.arange(20,100,2)\n",
    "scores = []\n",
    "param_c = 5\n",
    "param_gamma = 0.05\n",
    "model = svm.SVC(gamma=param_gamma,C=param_c,kernel='rbf')\n",
    "for d in dim:\n",
    "    pca = PCA(n_components=d)\n",
    "    pca.fit(train_x)\n",
    "    reduced_train_x = pca.transform(train_x)\n",
    "    reduced_test_x = pca.transform(test_x)\n",
    "    model.fit(reduced_train_x, train_y)\n",
    "    scores.append(model.score(reduced_test_x,test_y))\n",
    "plt.style.use('ggplot')\n",
    "plt.plot(dim,scores)\n",
    "plt.ylabel(\"score\")\n",
    "plt.xlabel(\"reserved dim\")"
   ]
  },
  {
   "cell_type": "code",
   "execution_count": 11,
   "metadata": {},
   "outputs": [
    {
     "name": "stderr",
     "output_type": "stream",
     "text": [
      "C:\\Users\\Snow\\Anaconda3\\lib\\site-packages\\sklearn\\svm\\base.py:196: FutureWarning: The default value of gamma will change from 'auto' to 'scale' in version 0.22 to account better for unscaled features. Set gamma explicitly to 'auto' or 'scale' to avoid this warning.\n",
      "  \"avoid this warning.\", FutureWarning)\n",
      "C:\\Users\\Snow\\Anaconda3\\lib\\site-packages\\sklearn\\svm\\base.py:196: FutureWarning: The default value of gamma will change from 'auto' to 'scale' in version 0.22 to account better for unscaled features. Set gamma explicitly to 'auto' or 'scale' to avoid this warning.\n",
      "  \"avoid this warning.\", FutureWarning)\n",
      "C:\\Users\\Snow\\Anaconda3\\lib\\site-packages\\sklearn\\svm\\base.py:196: FutureWarning: The default value of gamma will change from 'auto' to 'scale' in version 0.22 to account better for unscaled features. Set gamma explicitly to 'auto' or 'scale' to avoid this warning.\n",
      "  \"avoid this warning.\", FutureWarning)\n"
     ]
    },
    {
     "data": {
      "text/plain": [
       "Text(0.5, 0, 'kernel')"
      ]
     },
     "execution_count": 11,
     "metadata": {},
     "output_type": "execute_result"
    },
    {
     "data": {
      "image/png": "[encoded data removed]",
      "text/plain": [
       "<Figure size 432x288 with 1 Axes>"
      ]
     },
     "metadata": {},
     "output_type": "display_data"
    }
   ],
   "source": [
    "# 测试不同核方法对分类效果的影响\n",
    "# 这里选 k = 30\n",
    "pca = PCA(n_components=30)\n",
    "pca.fit(train_x)\n",
    "reduced_train_x = pca.transform(train_x)\n",
    "reduced_test_x = pca.transform(test_x)\n",
    "scores = []\n",
    "kernel = ['rbf','poly','linear','sigmoid']\n",
    "for item in kernel:\n",
    "    model = svm.SVC(kernel=item)\n",
    "    model.fit(reduced_train_x,train_y)\n",
    "    scores.append(model.score(reduced_test_x,test_y))\n",
    "plt.style.use('ggplot')\n",
    "plt.plot(kernel,scores)\n",
    "plt.ylabel('scores')\n",
    "plt.xlabel('kernel')"
   ]
  },
  {
   "cell_type": "code",
   "execution_count": null,
   "metadata": {},
   "outputs": [],
   "source": []
  }
 ],
 "metadata": {
  "kernelspec": {
   "display_name": "Python 3",
   "language": "python",
   "name": "python3"
  },
  "language_info": {
   "codemirror_mode": {
    "name": "ipython",
    "version": 3
   },
   "file_extension": ".py",
   "mimetype": "text/x-python",
   "name": "python",
   "nbconvert_exporter": "python",
   "pygments_lexer": "ipython3",
   "version": "3.7.3"
  }
 },
 "nbformat": 4,
 "nbformat_minor": 2
}
